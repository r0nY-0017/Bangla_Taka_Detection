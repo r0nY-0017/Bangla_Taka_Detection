{
 "cells": [
  {
   "cell_type": "markdown",
   "id": "8709e67e-b950-4eac-af67-6b9c19eb7e70",
   "metadata": {},
   "source": [
    "# **Import Libraries**"
   ]
  },
  {
   "cell_type": "code",
   "execution_count": 7,
   "id": "4c422cff-4ff0-4546-908e-4ec8a207f75c",
   "metadata": {},
   "outputs": [],
   "source": [
    "import tkinter as tk\n",
    "from tkinter import filedialog, messagebox\n",
    "import cv2\n",
    "import numpy as np\n",
    "from tensorflow.keras.models import load_model # type: ignore\n",
    "from PIL import Image, ImageTk\n",
    "import pytesseract\n",
    "import logging\n",
    "import re\n",
    "import os"
   ]
  },
  {
   "cell_type": "markdown",
   "id": "1f99d233-edfa-4713-8710-ce854dc9c64b",
   "metadata": {},
   "source": [
    "# **Logging Setup**"
   ]
  },
  {
   "cell_type": "code",
   "execution_count": 8,
   "id": "a23c8f93-00e1-4e7e-8ba1-fda26780019f",
   "metadata": {},
   "outputs": [],
   "source": [
    "logging.basicConfig(level=logging.INFO, format='%(asctime)s - %(levelname)s - %(message)s')"
   ]
  },
  {
   "cell_type": "markdown",
   "id": "7d4c664e-1a67-44c0-b20d-78905631ffb1",
   "metadata": {},
   "source": [
    "# **Load Trained CNN Model**"
   ]
  },
  {
   "cell_type": "code",
   "execution_count": 9,
   "id": "6bdf8b77-1a00-43de-bf03-377ff0a11de7",
   "metadata": {},
   "outputs": [
    {
     "name": "stderr",
     "output_type": "stream",
     "text": [
      "2025-04-15 19:56:55,574 - WARNING - Compiled the loaded model, but the compiled metrics have yet to be built. `model.compile_metrics` will be empty until you train or evaluate the model.\n"
     ]
    }
   ],
   "source": [
    "try:\n",
    "    model = load_model('taka_detection_cnn_model.h5')\n",
    "except Exception as e:\n",
    "    logging.error(f\"Error loading model: {e}\")\n",
    "    exit()"
   ]
  },
  {
   "cell_type": "markdown",
   "id": "110a1a52-3a5a-4682-a96c-1a19150e99b4",
   "metadata": {},
   "source": [
    "# **Label Dictionary**"
   ]
  },
  {
   "cell_type": "code",
   "execution_count": 10,
   "id": "7165503e-e21c-4eb7-8c7c-8efd1ce71ca8",
   "metadata": {},
   "outputs": [],
   "source": [
    "labels_dict = {\n",
    "    0: '10 Taka',\n",
    "    1: '20 Taka',\n",
    "    2: '50 Taka',\n",
    "    3: '100 Taka',\n",
    "    4: '200 Taka',\n",
    "    5: '500 Taka',\n",
    "    6: '1000 Taka',\n",
    "}"
   ]
  },
  {
   "cell_type": "markdown",
   "id": "e2fdc069-35ed-4989-a996-b45fda021e38",
   "metadata": {},
   "source": [
    "# **GUI Interface**"
   ]
  },
  {
   "cell_type": "code",
   "execution_count": 11,
   "id": "61d0af80-1f0b-4a4d-8b02-a1ac655247d2",
   "metadata": {},
   "outputs": [],
   "source": [
    "class BanknoteDetectorApp:\n",
    "    def __init__(self, root):\n",
    "        self.root = root\n",
    "        self.root.title(\"Bangladeshi Taka Detector\")\n",
    "        self.root.geometry(\"1200x700\")\n",
    "        self.label = tk.Label(root, text=\"Bangladeshi Taka Detector\", font=(\"Arial\", 30), fg=\"yellow\", bg=\"black\")\n",
    "        self.label.pack(pady=10)\n",
    "        \n",
    "        self.label = tk.Label(root, text=\"Select an image to Detect Bangladeshi Taka\", font=(\"Times New Roman\", 18), fg=\"red\")\n",
    "        self.label.pack(pady=10)\n",
    "\n",
    "        self.select_button = tk.Button(\n",
    "            root, \n",
    "            text=\"Select Image\", \n",
    "            command=self.select_image, \n",
    "            font=(\"Arial\", 14), \n",
    "            bg=\"green\", \n",
    "            fg=\"white\",  # White text for better contrast\n",
    "            bd=0,  # No border\n",
    "            relief=\"flat\",  # Flat style\n",
    "            highlightthickness=0,  # No focus highlight\n",
    "            padx=10, pady=5  # Adds some padding for a better look\n",
    "        )\n",
    "        self.select_button.pack(pady=10)\n",
    "\n",
    "        self.image_label = tk.Label(root)\n",
    "        self.image_label.pack(pady=10)\n",
    "\n",
    "        self.result_label = tk.Label(root, text=\"\", font=(\"Arial\", 30), fg=\"green\")\n",
    "        self.result_label.pack(pady=10)\n",
    "\n",
    "        self.number_label = tk.Label(root, text=\"\", font=(\"Arial\", 12), fg=\"green\")\n",
    "        self.number_label.pack(pady=10)\n",
    "\n",
    "    def select_image(self):\n",
    "        file_path = filedialog.askopenfilename(\n",
    "            title=\"Select Banknote Image\",\n",
    "            filetypes=[(\"Image files\", \"*.png *.jpg *.jpeg *.bmp\")]\n",
    "        )\n",
    "        \n",
    "        if not file_path:\n",
    "            return\n",
    "\n",
    "        image = cv2.imread(file_path, cv2.IMREAD_COLOR)\n",
    "        if image is None:\n",
    "            messagebox.showerror(\"Error\", \"Could not load the image!\")\n",
    "            return\n",
    "\n",
    "        # Resize and preprocess for CNN\n",
    "        cnn_input = cv2.resize(image, (224, 224))  #For CNN\n",
    "        cnn_input = cnn_input / 255.0  #Normalization\n",
    "        cnn_input = np.expand_dims(cnn_input, axis=0)  #Batch Dimension Add\n",
    "\n",
    "        # Display image (original size)\n",
    "        display_image = cv2.resize(image, (660, 380))\n",
    "        \n",
    "        # Predict with CNN\n",
    "        probs = model.predict(cnn_input)[0]\n",
    "        max_prob = np.max(probs)\n",
    "        prediction = np.argmax(probs)\n",
    "        print(f\"Prediction index: {prediction}, Confidence: {max_prob}\")\n",
    "        print(f\"Probabilities: {probs}\")\n",
    "\n",
    "        # Result text\n",
    "        if max_prob >= 0.5:  # Confidence Threshold\n",
    "            predicted_value = labels_dict.get(prediction, \"Unknown\")\n",
    "            result_text = f\"Detected: {predicted_value} (Confidence: {max_prob:.2f})\"\n",
    "            cv2.rectangle(display_image, (0, 0), (660, 380), (0, 255, 0), 3)  #Green Border\n",
    "        else:\n",
    "            result_text = \"No Bangladeshi Taka Detected\"\n",
    "\n",
    "\n",
    "        # Convert image for Tkinter\n",
    "        image_rgb = cv2.cvtColor(display_image, cv2.COLOR_BGR2RGB)\n",
    "        img = Image.fromarray(image_rgb)\n",
    "        imgtk = ImageTk.PhotoImage(image=img)\n",
    "\n",
    "        # Update GUI\n",
    "        self.image_label.config(image=imgtk)\n",
    "        self.image_label.image = imgtk\n",
    "        self.result_label.config(text=result_text)"
   ]
  },
  {
   "cell_type": "markdown",
   "id": "8d2d1024-c9b2-4d44-bb1e-afa4f90c5c1c",
   "metadata": {},
   "source": [
    "# **RUN GUI**"
   ]
  },
  {
   "cell_type": "code",
   "execution_count": null,
   "id": "832adcef-6d80-4ce2-be13-b9dd929f5171",
   "metadata": {},
   "outputs": [
    {
     "name": "stdout",
     "output_type": "stream",
     "text": [
      "\u001b[1m1/1\u001b[0m \u001b[32m━━━━━━━━━━━━━━━━━━━━\u001b[0m\u001b[37m\u001b[0m \u001b[1m0s\u001b[0m 80ms/step\n",
      "Prediction index: 1, Confidence: 0.9534040093421936\n",
      "Probabilities: [5.6879307e-10 9.5340401e-01 9.0437334e-07 6.7333413e-06 3.6562647e-05\n",
      " 4.6551447e-02 4.3072529e-07]\n",
      "\u001b[1m1/1\u001b[0m \u001b[32m━━━━━━━━━━━━━━━━━━━━\u001b[0m\u001b[37m\u001b[0m \u001b[1m0s\u001b[0m 21ms/step\n",
      "Prediction index: 0, Confidence: 0.9991914629936218\n",
      "Probabilities: [9.9919146e-01 1.0078640e-08 2.4081901e-06 8.3078788e-08 5.2312808e-04\n",
      " 2.6403004e-06 2.8022693e-04]\n",
      "\u001b[1m1/1\u001b[0m \u001b[32m━━━━━━━━━━━━━━━━━━━━\u001b[0m\u001b[37m\u001b[0m \u001b[1m0s\u001b[0m 32ms/step\n",
      "Prediction index: 2, Confidence: 0.9991476535797119\n",
      "Probabilities: [3.8924136e-06 7.0546841e-04 9.9914765e-01 1.1907237e-06 1.4067038e-04\n",
      " 1.2230123e-07 1.0101859e-06]\n",
      "\u001b[1m1/1\u001b[0m \u001b[32m━━━━━━━━━━━━━━━━━━━━\u001b[0m\u001b[37m\u001b[0m \u001b[1m0s\u001b[0m 22ms/step\n",
      "Prediction index: 2, Confidence: 0.9961701035499573\n",
      "Probabilities: [1.3949508e-04 2.3952171e-03 9.9617010e-01 1.4248256e-05 1.2445853e-03\n",
      " 4.0685941e-06 3.2256565e-05]\n",
      "\u001b[1m1/1\u001b[0m \u001b[32m━━━━━━━━━━━━━━━━━━━━\u001b[0m\u001b[37m\u001b[0m \u001b[1m0s\u001b[0m 37ms/step\n",
      "Prediction index: 3, Confidence: 0.9375013113021851\n",
      "Probabilities: [1.5913769e-11 1.7304973e-07 7.2338054e-08 9.3750131e-01 8.3092935e-11\n",
      " 6.2498204e-02 2.7724087e-07]\n",
      "\u001b[1m1/1\u001b[0m \u001b[32m━━━━━━━━━━━━━━━━━━━━\u001b[0m\u001b[37m\u001b[0m \u001b[1m0s\u001b[0m 20ms/step\n",
      "Prediction index: 4, Confidence: 0.9933832287788391\n",
      "Probabilities: [1.3751988e-03 1.0750138e-03 7.9653470e-04 2.3404859e-06 9.9338323e-01\n",
      " 1.0724676e-04 3.2603974e-03]\n",
      "\u001b[1m1/1\u001b[0m \u001b[32m━━━━━━━━━━━━━━━━━━━━\u001b[0m\u001b[37m\u001b[0m \u001b[1m0s\u001b[0m 22ms/step\n",
      "Prediction index: 5, Confidence: 0.9130904674530029\n",
      "Probabilities: [1.4341210e-09 8.6819276e-02 5.6878356e-08 5.9094775e-05 2.8439370e-05\n",
      " 9.1309047e-01 2.6511987e-06]\n"
     ]
    }
   ],
   "source": [
    "if __name__ == \"__main__\":\n",
    "    root = tk.Tk()\n",
    "    app = BanknoteDetectorApp(root)\n",
    "    root.mainloop()"
   ]
  }
 ],
 "metadata": {
  "kernelspec": {
   "display_name": "Python 3 (ipykernel)",
   "language": "python",
   "name": "python3"
  },
  "language_info": {
   "codemirror_mode": {
    "name": "ipython",
    "version": 3
   },
   "file_extension": ".py",
   "mimetype": "text/x-python",
   "name": "python",
   "nbconvert_exporter": "python",
   "pygments_lexer": "ipython3",
   "version": "3.11.9"
  }
 },
 "nbformat": 4,
 "nbformat_minor": 5
}
